{
 "cells": [
  {
   "cell_type": "markdown",
   "metadata": {},
   "source": [
    "# MuseGAN Training"
   ]
  },
  {
   "cell_type": "markdown",
   "metadata": {},
   "source": [
    "## imports"
   ]
  },
  {
   "cell_type": "code",
   "execution_count": 1,
   "metadata": {},
   "outputs": [],
   "source": [
    "import os\n",
    "import matplotlib.pyplot as plt\n",
    "import numpy as np\n",
    "import types\n",
    "\n",
    "from models.MuseGAN import MuseGAN\n",
    "from utils.loaders import load_music\n",
    "\n",
    "from music21 import midi\n",
    "from music21 import note, stream, duration"
   ]
  },
  {
   "cell_type": "code",
   "execution_count": 2,
   "metadata": {},
   "outputs": [],
   "source": [
    "# run params\n",
    "SECTION = 'compose'\n",
    "RUN_ID = '0017'\n",
    "DATA_NAME = 'chorales'\n",
    "FILENAME = 'Jsb16thSeparated.npz'\n",
    "RUN_FOLDER = 'run/{}/'.format(SECTION)\n",
    "RUN_FOLDER += '_'.join([RUN_ID, DATA_NAME])\n",
    "\n",
    "\n",
    "\n",
    "if not os.path.exists(RUN_FOLDER):\n",
    "    os.mkdir(RUN_FOLDER)\n",
    "    os.mkdir(os.path.join(RUN_FOLDER, 'viz'))\n",
    "    os.mkdir(os.path.join(RUN_FOLDER, 'images'))\n",
    "    os.mkdir(os.path.join(RUN_FOLDER, 'weights'))\n",
    "    os.mkdir(os.path.join(RUN_FOLDER, 'samples'))\n",
    "\n",
    "mode =  'build' # ' 'load' # "
   ]
  },
  {
   "cell_type": "markdown",
   "metadata": {},
   "source": [
    "## data"
   ]
  },
  {
   "cell_type": "code",
   "execution_count": 3,
   "metadata": {},
   "outputs": [],
   "source": [
    "BATCH_SIZE = 64\n",
    "n_bars = 2\n",
    "n_steps_per_bar = 16\n",
    "n_pitches = 84\n",
    "n_tracks = 4\n",
    "\n",
    "data_binary, data_ints, raw_data = load_music(DATA_NAME, FILENAME, n_bars, n_steps_per_bar)\n",
    "data_binary = np.squeeze(data_binary)"
   ]
  },
  {
   "cell_type": "markdown",
   "metadata": {},
   "source": [
    "## architecture"
   ]
  },
  {
   "cell_type": "code",
   "execution_count": 4,
   "metadata": {},
   "outputs": [
    {
     "name": "stdout",
     "output_type": "stream",
     "text": [
      "WARNING:tensorflow:From /Users/davidfoster/.virtualenvs/gdl_code_2/lib/python3.7/site-packages/tensorflow_core/python/ops/resource_variable_ops.py:1630: calling BaseResourceVariable.__init__ (from tensorflow.python.ops.resource_variable_ops) with constraint is deprecated and will be removed in a future version.\n",
      "Instructions for updating:\n",
      "If using Keras pass *_constraint arguments to layers.\n"
     ]
    }
   ],
   "source": [
    "gan = MuseGAN(input_dim = data_binary.shape[1:]\n",
    "        , critic_learning_rate = 0.001\n",
    "        , generator_learning_rate = 0.001\n",
    "        , optimiser = 'adam'\n",
    "        , grad_weight = 10\n",
    "        , z_dim = 32\n",
    "        , batch_size = BATCH_SIZE\n",
    "        , n_tracks = n_tracks\n",
    "        , n_bars = n_bars\n",
    "        , n_steps_per_bar = n_steps_per_bar\n",
    "        , n_pitches = n_pitches\n",
    "        )\n",
    "\n",
    "if mode == 'build':\n",
    "    gan.save(RUN_FOLDER)\n",
    "else:                 \n",
    "    gan.load_weights(RUN_FOLDER)"
   ]
  },
  {
   "cell_type": "code",
   "execution_count": 5,
   "metadata": {},
   "outputs": [
    {
     "name": "stdout",
     "output_type": "stream",
     "text": [
      "Model: \"model_1\"\n",
      "_________________________________________________________________\n",
      "Layer (type)                 Output Shape              Param #   \n",
      "=================================================================\n",
      "temporal_input (InputLayer)  [(None, 32)]              0         \n",
      "_________________________________________________________________\n",
      "reshape (Reshape)            (None, 1, 1, 32)          0         \n",
      "_________________________________________________________________\n",
      "conv2d_transpose (Conv2DTran (None, 2, 1, 1024)        66560     \n",
      "_________________________________________________________________\n",
      "batch_normalization (BatchNo (None, 2, 1, 1024)        4096      \n",
      "_________________________________________________________________\n",
      "activation (Activation)      (None, 2, 1, 1024)        0         \n",
      "_________________________________________________________________\n",
      "conv2d_transpose_1 (Conv2DTr (None, 2, 1, 32)          32800     \n",
      "_________________________________________________________________\n",
      "batch_normalization_1 (Batch (None, 2, 1, 32)          128       \n",
      "_________________________________________________________________\n",
      "activation_1 (Activation)    (None, 2, 1, 32)          0         \n",
      "_________________________________________________________________\n",
      "reshape_1 (Reshape)          (None, 2, 32)             0         \n",
      "=================================================================\n",
      "Total params: 103,584\n",
      "Trainable params: 101,472\n",
      "Non-trainable params: 2,112\n",
      "_________________________________________________________________\n"
     ]
    }
   ],
   "source": [
    "gan.chords_tempNetwork.summary()"
   ]
  },
  {
   "cell_type": "code",
   "execution_count": 6,
   "metadata": {},
   "outputs": [
    {
     "name": "stdout",
     "output_type": "stream",
     "text": [
      "Model: \"model_6\"\n",
      "_________________________________________________________________\n",
      "Layer (type)                 Output Shape              Param #   \n",
      "=================================================================\n",
      "bar_generator_input (InputLa [(None, 128)]             0         \n",
      "_________________________________________________________________\n",
      "dense_2 (Dense)              (None, 1024)              132096    \n",
      "_________________________________________________________________\n",
      "batch_normalization_10 (Batc (None, 1024)              4096      \n",
      "_________________________________________________________________\n",
      "activation_10 (Activation)   (None, 1024)              0         \n",
      "_________________________________________________________________\n",
      "reshape_10 (Reshape)         (None, 2, 1, 512)         0         \n",
      "_________________________________________________________________\n",
      "conv2d_transpose_10 (Conv2DT (None, 4, 1, 512)         524800    \n",
      "_________________________________________________________________\n",
      "batch_normalization_11 (Batc (None, 4, 1, 512)         2048      \n",
      "_________________________________________________________________\n",
      "activation_11 (Activation)   (None, 4, 1, 512)         0         \n",
      "_________________________________________________________________\n",
      "conv2d_transpose_11 (Conv2DT (None, 8, 1, 256)         262400    \n",
      "_________________________________________________________________\n",
      "batch_normalization_12 (Batc (None, 8, 1, 256)         1024      \n",
      "_________________________________________________________________\n",
      "activation_12 (Activation)   (None, 8, 1, 256)         0         \n",
      "_________________________________________________________________\n",
      "conv2d_transpose_12 (Conv2DT (None, 16, 1, 256)        131328    \n",
      "_________________________________________________________________\n",
      "batch_normalization_13 (Batc (None, 16, 1, 256)        1024      \n",
      "_________________________________________________________________\n",
      "activation_13 (Activation)   (None, 16, 1, 256)        0         \n",
      "_________________________________________________________________\n",
      "conv2d_transpose_13 (Conv2DT (None, 16, 7, 256)        459008    \n",
      "_________________________________________________________________\n",
      "batch_normalization_14 (Batc (None, 16, 7, 256)        1024      \n",
      "_________________________________________________________________\n",
      "activation_14 (Activation)   (None, 16, 7, 256)        0         \n",
      "_________________________________________________________________\n",
      "conv2d_transpose_14 (Conv2DT (None, 16, 84, 1)         3073      \n",
      "_________________________________________________________________\n",
      "reshape_11 (Reshape)         (None, 1, 16, 84, 1)      0         \n",
      "=================================================================\n",
      "Total params: 1,521,921\n",
      "Trainable params: 1,517,313\n",
      "Non-trainable params: 4,608\n",
      "_________________________________________________________________\n"
     ]
    }
   ],
   "source": [
    "gan.barGen[0].summary()"
   ]
  },
  {
   "cell_type": "code",
   "execution_count": 7,
   "metadata": {},
   "outputs": [
    {
     "name": "stdout",
     "output_type": "stream",
     "text": [
      "Model: \"model_10\"\n",
      "__________________________________________________________________________________________________\n",
      "Layer (type)                    Output Shape         Param #     Connected to                     \n",
      "==================================================================================================\n",
      "melody_input (InputLayer)       [(None, 4, 32)]      0                                            \n",
      "__________________________________________________________________________________________________\n",
      "chords_input (InputLayer)       [(None, 32)]         0                                            \n",
      "__________________________________________________________________________________________________\n",
      "lambda (Lambda)                 (None, 32)           0           melody_input[0][0]               \n",
      "__________________________________________________________________________________________________\n",
      "lambda_1 (Lambda)               (None, 32)           0           melody_input[0][0]               \n",
      "__________________________________________________________________________________________________\n",
      "lambda_2 (Lambda)               (None, 32)           0           melody_input[0][0]               \n",
      "__________________________________________________________________________________________________\n",
      "lambda_3 (Lambda)               (None, 32)           0           melody_input[0][0]               \n",
      "__________________________________________________________________________________________________\n",
      "model_1 (Model)                 (None, 2, 32)        103584      chords_input[0][0]               \n",
      "__________________________________________________________________________________________________\n",
      "model_2 (Model)                 (None, 2, 32)        103584      lambda[0][0]                     \n",
      "__________________________________________________________________________________________________\n",
      "groove_input (InputLayer)       [(None, 4, 32)]      0                                            \n",
      "__________________________________________________________________________________________________\n",
      "model_3 (Model)                 (None, 2, 32)        103584      lambda_1[0][0]                   \n",
      "__________________________________________________________________________________________________\n",
      "model_4 (Model)                 (None, 2, 32)        103584      lambda_2[0][0]                   \n",
      "__________________________________________________________________________________________________\n",
      "model_5 (Model)                 (None, 2, 32)        103584      lambda_3[0][0]                   \n",
      "__________________________________________________________________________________________________\n",
      "chords_input_bar_0 (Lambda)     (None, 32)           0           model_1[1][0]                    \n",
      "__________________________________________________________________________________________________\n",
      "style_input (InputLayer)        [(None, 32)]         0                                            \n",
      "__________________________________________________________________________________________________\n",
      "lambda_4 (Lambda)               (None, 32)           0           model_2[1][0]                    \n",
      "__________________________________________________________________________________________________\n",
      "lambda_5 (Lambda)               (None, 32)           0           groove_input[0][0]               \n",
      "__________________________________________________________________________________________________\n",
      "lambda_6 (Lambda)               (None, 32)           0           model_3[1][0]                    \n",
      "__________________________________________________________________________________________________\n",
      "lambda_7 (Lambda)               (None, 32)           0           groove_input[0][0]               \n",
      "__________________________________________________________________________________________________\n",
      "lambda_8 (Lambda)               (None, 32)           0           model_4[1][0]                    \n",
      "__________________________________________________________________________________________________\n",
      "lambda_9 (Lambda)               (None, 32)           0           groove_input[0][0]               \n",
      "__________________________________________________________________________________________________\n",
      "lambda_10 (Lambda)              (None, 32)           0           model_5[1][0]                    \n",
      "__________________________________________________________________________________________________\n",
      "lambda_11 (Lambda)              (None, 32)           0           groove_input[0][0]               \n",
      "__________________________________________________________________________________________________\n",
      "chords_input_bar_1 (Lambda)     (None, 32)           0           model_1[1][0]                    \n",
      "__________________________________________________________________________________________________\n",
      "lambda_12 (Lambda)              (None, 32)           0           model_2[1][0]                    \n",
      "__________________________________________________________________________________________________\n",
      "lambda_13 (Lambda)              (None, 32)           0           groove_input[0][0]               \n",
      "__________________________________________________________________________________________________\n",
      "lambda_14 (Lambda)              (None, 32)           0           model_3[1][0]                    \n",
      "__________________________________________________________________________________________________\n",
      "lambda_15 (Lambda)              (None, 32)           0           groove_input[0][0]               \n",
      "__________________________________________________________________________________________________\n",
      "lambda_16 (Lambda)              (None, 32)           0           model_4[1][0]                    \n",
      "__________________________________________________________________________________________________\n",
      "lambda_17 (Lambda)              (None, 32)           0           groove_input[0][0]               \n",
      "__________________________________________________________________________________________________\n",
      "lambda_18 (Lambda)              (None, 32)           0           model_5[1][0]                    \n",
      "__________________________________________________________________________________________________\n",
      "lambda_19 (Lambda)              (None, 32)           0           groove_input[0][0]               \n",
      "__________________________________________________________________________________________________\n",
      "total_input_bar_0_track_0 (Conc (None, 128)          0           chords_input_bar_0[0][0]         \n",
      "                                                                 style_input[0][0]                \n",
      "                                                                 lambda_4[0][0]                   \n",
      "                                                                 lambda_5[0][0]                   \n",
      "__________________________________________________________________________________________________\n",
      "total_input_bar_0_track_1 (Conc (None, 128)          0           chords_input_bar_0[0][0]         \n",
      "                                                                 style_input[0][0]                \n",
      "                                                                 lambda_6[0][0]                   \n",
      "                                                                 lambda_7[0][0]                   \n",
      "__________________________________________________________________________________________________\n",
      "total_input_bar_0_track_2 (Conc (None, 128)          0           chords_input_bar_0[0][0]         \n",
      "                                                                 style_input[0][0]                \n",
      "                                                                 lambda_8[0][0]                   \n",
      "                                                                 lambda_9[0][0]                   \n",
      "__________________________________________________________________________________________________\n",
      "total_input_bar_0_track_3 (Conc (None, 128)          0           chords_input_bar_0[0][0]         \n",
      "                                                                 style_input[0][0]                \n",
      "                                                                 lambda_10[0][0]                  \n",
      "                                                                 lambda_11[0][0]                  \n",
      "__________________________________________________________________________________________________\n",
      "total_input_bar_1_track_0 (Conc (None, 128)          0           chords_input_bar_1[0][0]         \n",
      "                                                                 style_input[0][0]                \n",
      "                                                                 lambda_12[0][0]                  \n",
      "                                                                 lambda_13[0][0]                  \n",
      "__________________________________________________________________________________________________\n",
      "total_input_bar_1_track_1 (Conc (None, 128)          0           chords_input_bar_1[0][0]         \n",
      "                                                                 style_input[0][0]                \n",
      "                                                                 lambda_14[0][0]                  \n",
      "                                                                 lambda_15[0][0]                  \n",
      "__________________________________________________________________________________________________\n",
      "total_input_bar_1_track_2 (Conc (None, 128)          0           chords_input_bar_1[0][0]         \n",
      "                                                                 style_input[0][0]                \n",
      "                                                                 lambda_16[0][0]                  \n",
      "                                                                 lambda_17[0][0]                  \n",
      "__________________________________________________________________________________________________\n",
      "total_input_bar_1_track_3 (Conc (None, 128)          0           chords_input_bar_1[0][0]         \n",
      "                                                                 style_input[0][0]                \n",
      "                                                                 lambda_18[0][0]                  \n",
      "                                                                 lambda_19[0][0]                  \n",
      "__________________________________________________________________________________________________\n",
      "model_6 (Model)                 (None, 1, 16, 84, 1) 1521921     total_input_bar_0_track_0[0][0]  \n",
      "                                                                 total_input_bar_1_track_0[0][0]  \n",
      "__________________________________________________________________________________________________\n",
      "model_7 (Model)                 (None, 1, 16, 84, 1) 1521921     total_input_bar_0_track_1[0][0]  \n",
      "                                                                 total_input_bar_1_track_1[0][0]  \n",
      "__________________________________________________________________________________________________\n",
      "model_8 (Model)                 (None, 1, 16, 84, 1) 1521921     total_input_bar_0_track_2[0][0]  \n",
      "                                                                 total_input_bar_1_track_2[0][0]  \n",
      "__________________________________________________________________________________________________\n",
      "model_9 (Model)                 (None, 1, 16, 84, 1) 1521921     total_input_bar_0_track_3[0][0]  \n",
      "                                                                 total_input_bar_1_track_3[0][0]  \n",
      "__________________________________________________________________________________________________\n",
      "concatenate (Concatenate)       (None, 1, 16, 84, 4) 0           model_6[1][0]                    \n",
      "                                                                 model_7[1][0]                    \n",
      "                                                                 model_8[1][0]                    \n",
      "                                                                 model_9[1][0]                    \n",
      "__________________________________________________________________________________________________\n",
      "concatenate_1 (Concatenate)     (None, 1, 16, 84, 4) 0           model_6[2][0]                    \n",
      "                                                                 model_7[2][0]                    \n",
      "                                                                 model_8[2][0]                    \n",
      "                                                                 model_9[2][0]                    \n",
      "__________________________________________________________________________________________________\n",
      "concat_bars (Concatenate)       (None, 2, 16, 84, 4) 0           concatenate[0][0]                \n",
      "                                                                 concatenate_1[0][0]              \n",
      "==================================================================================================\n",
      "Total params: 6,605,604\n",
      "Trainable params: 6,576,612\n",
      "Non-trainable params: 28,992\n",
      "__________________________________________________________________________________________________\n"
     ]
    }
   ],
   "source": [
    "gan.generator.summary()"
   ]
  },
  {
   "cell_type": "code",
   "execution_count": 8,
   "metadata": {
    "scrolled": false
   },
   "outputs": [
    {
     "name": "stdout",
     "output_type": "stream",
     "text": [
      "Model: \"model\"\n",
      "_________________________________________________________________\n",
      "Layer (type)                 Output Shape              Param #   \n",
      "=================================================================\n",
      "critic_input (InputLayer)    [(None, 2, 16, 84, 4)]    0         \n",
      "_________________________________________________________________\n",
      "conv3d (Conv3D)              multiple                  1152      \n",
      "_________________________________________________________________\n",
      "leaky_re_lu (LeakyReLU)      multiple                  0         \n",
      "_________________________________________________________________\n",
      "conv3d_1 (Conv3D)            multiple                  16512     \n",
      "_________________________________________________________________\n",
      "leaky_re_lu_1 (LeakyReLU)    multiple                  0         \n",
      "_________________________________________________________________\n",
      "conv3d_2 (Conv3D)            multiple                  196736    \n",
      "_________________________________________________________________\n",
      "leaky_re_lu_2 (LeakyReLU)    multiple                  0         \n",
      "_________________________________________________________________\n",
      "conv3d_3 (Conv3D)            multiple                  114816    \n",
      "_________________________________________________________________\n",
      "leaky_re_lu_3 (LeakyReLU)    multiple                  0         \n",
      "_________________________________________________________________\n",
      "conv3d_4 (Conv3D)            multiple                  32896     \n",
      "_________________________________________________________________\n",
      "leaky_re_lu_4 (LeakyReLU)    multiple                  0         \n",
      "_________________________________________________________________\n",
      "conv3d_5 (Conv3D)            multiple                  32896     \n",
      "_________________________________________________________________\n",
      "leaky_re_lu_5 (LeakyReLU)    multiple                  0         \n",
      "_________________________________________________________________\n",
      "conv3d_6 (Conv3D)            multiple                  131328    \n",
      "_________________________________________________________________\n",
      "leaky_re_lu_6 (LeakyReLU)    multiple                  0         \n",
      "_________________________________________________________________\n",
      "conv3d_7 (Conv3D)            multiple                  393728    \n",
      "_________________________________________________________________\n",
      "leaky_re_lu_7 (LeakyReLU)    multiple                  0         \n",
      "_________________________________________________________________\n",
      "flatten (Flatten)            multiple                  0         \n",
      "_________________________________________________________________\n",
      "dense (Dense)                multiple                  525312    \n",
      "_________________________________________________________________\n",
      "leaky_re_lu_8 (LeakyReLU)    multiple                  0         \n",
      "_________________________________________________________________\n",
      "dense_1 (Dense)              multiple                  1025      \n",
      "=================================================================\n",
      "Total params: 1,446,401\n",
      "Trainable params: 1,446,401\n",
      "Non-trainable params: 0\n",
      "_________________________________________________________________\n"
     ]
    }
   ],
   "source": [
    "gan.critic.summary()"
   ]
  },
  {
   "cell_type": "markdown",
   "metadata": {},
   "source": [
    "## training"
   ]
  },
  {
   "cell_type": "code",
   "execution_count": 9,
   "metadata": {},
   "outputs": [],
   "source": [
    "\n",
    "EPOCHS = 6000\n",
    "PRINT_EVERY_N_BATCHES = 10\n",
    "\n",
    "gan.epoch = 0"
   ]
  },
  {
   "cell_type": "code",
   "execution_count": null,
   "metadata": {
    "scrolled": true
   },
   "outputs": [
    {
     "name": "stdout",
     "output_type": "stream",
     "text": [
      "WARNING:tensorflow:Discrepancy between trainable weights and collected trainable weights, did you set `model.trainable` without calling `model.compile` after ?\n",
      "WARNING:tensorflow:Discrepancy between trainable weights and collected trainable weights, did you set `model.trainable` without calling `model.compile` after ?\n",
      "0 (5, 1) [D loss: (9.2)(R -0.7, F -0.0, G 1.0)] [G loss: -0.1]\n",
      "1 (5, 1) [D loss: (-257.6)(R -301.6, F -5.2, G 4.9)] [G loss: -22.4]\n",
      "2 (5, 1) [D loss: (-324.9)(R -612.0, F -23.7, G 31.1)] [G loss: -150.4]\n",
      "3 (5, 1) [D loss: (-303.9)(R -639.6, F -25.7, G 36.1)] [G loss: -164.0]\n",
      "4 (5, 1) [D loss: (-21.5)(R 102.7, F -126.9, G 0.3)] [G loss: -431.1]\n",
      "5 (5, 1) [D loss: (-301.7)(R -843.6, F 279.6, G 26.2)] [G loss: -554.4]\n",
      "6 (5, 1) [D loss: (-253.9)(R -670.3, F 271.6, G 14.5)] [G loss: -598.1]\n",
      "7 (5, 1) [D loss: (-188.4)(R -583.1, F 295.9, G 9.9)] [G loss: -555.3]\n",
      "8 (5, 1) [D loss: (-125.5)(R -526.0, F 324.9, G 7.6)] [G loss: -465.0]\n",
      "9 (5, 1) [D loss: (-79.1)(R -432.0, F 302.6, G 5.0)] [G loss: -344.0]\n",
      "10 (5, 1) [D loss: (-71.7)(R -78.7, F -42.1, G 4.9)] [G loss: -153.3]\n",
      "11 (5, 1) [D loss: (-29.6)(R 241.1, F -271.6, G 0.1)] [G loss: 437.6]\n",
      "12 (5, 1) [D loss: (-30.7)(R 441.6, F -480.0, G 0.8)] [G loss: 586.8]\n",
      "13 (5, 1) [D loss: (-46.3)(R 572.4, F -633.4, G 1.5)] [G loss: 706.0]\n",
      "14 (5, 1) [D loss: (-66.3)(R 611.9, F -711.6, G 3.3)] [G loss: 662.6]\n",
      "15 (5, 1) [D loss: (-54.9)(R 530.4, F -606.7, G 2.1)] [G loss: 614.6]\n",
      "16 (5, 1) [D loss: (-42.2)(R 617.3, F -675.5, G 1.6)] [G loss: 665.1]\n",
      "17 (5, 1) [D loss: (-29.4)(R 726.6, F -767.6, G 1.2)] [G loss: 722.4]\n",
      "18 (5, 1) [D loss: (-20.1)(R 466.3, F -490.7, G 0.4)] [G loss: 559.5]\n",
      "19 (5, 1) [D loss: (-12.2)(R 434.5, F -446.8, G 0.0)] [G loss: 483.2]\n"
     ]
    }
   ],
   "source": [
    "gan.train(     \n",
    "    data_binary\n",
    "    , batch_size = BATCH_SIZE\n",
    "    , epochs = EPOCHS\n",
    "    , run_folder = RUN_FOLDER\n",
    "    , print_every_n_batches = PRINT_EVERY_N_BATCHES\n",
    ")"
   ]
  },
  {
   "cell_type": "markdown",
   "metadata": {},
   "source": [
    "#######"
   ]
  },
  {
   "cell_type": "code",
   "execution_count": null,
   "metadata": {},
   "outputs": [],
   "source": [
    "fig = plt.figure()\n",
    "plt.plot([x[0] for x in gan.d_losses], color='black', linewidth=0.25)\n",
    "\n",
    "plt.plot([x[1] for x in gan.d_losses], color='green', linewidth=0.25)\n",
    "plt.plot([x[2] for x in gan.d_losses], color='red', linewidth=0.25)\n",
    "plt.plot(gan.g_losses, color='orange', linewidth=0.25)\n",
    "\n",
    "plt.xlabel('batch', fontsize=18)\n",
    "plt.ylabel('loss', fontsize=16)\n",
    "\n",
    "plt.xlim(0, len(gan.d_losses))\n",
    "# plt.ylim(0, 2)\n",
    "\n",
    "plt.show()\n"
   ]
  },
  {
   "cell_type": "code",
   "execution_count": null,
   "metadata": {},
   "outputs": [],
   "source": []
  }
 ],
 "metadata": {
  "kernelspec": {
   "display_name": "gdl_code_2",
   "language": "python",
   "name": "gdl_code_2"
  },
  "language_info": {
   "codemirror_mode": {
    "name": "ipython",
    "version": 3
   },
   "file_extension": ".py",
   "mimetype": "text/x-python",
   "name": "python",
   "nbconvert_exporter": "python",
   "pygments_lexer": "ipython3",
   "version": "3.7.3"
  }
 },
 "nbformat": 4,
 "nbformat_minor": 2
}
